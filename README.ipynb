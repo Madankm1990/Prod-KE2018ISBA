{
 "cells": [
  {
   "cell_type": "markdown",
   "metadata": {},
   "source": [
    "# KE2018ISBA\n",
    "\n",
    "### 顾 瞻 GU Zhan (Sam)\n",
    "\n",
    "zhan.gu@nus.edu.sg"
   ]
  },
  {
   "cell_type": "markdown",
   "metadata": {},
   "source": [
    "<img src=\"https://media.licdn.com/mpr/mpr/shrinknp_200_200/p/5/005/082/25a/083eb2e.jpg\"\n",
    "     style=\"float: left; margin-right: 100px;\" width=\"150\" />"
   ]
  },
  {
   "cell_type": "markdown",
   "metadata": {},
   "source": [
    "<img src=\"https://s3-eu-west-1.amazonaws.com/fayimora.com/2017/04/RoadToDataScientist1.png\"\n",
    "     style=\"float: left; margin-right: 0px;\" />"
   ]
  },
  {
   "cell_type": "markdown",
   "metadata": {},
   "source": [
    "https://s3-eu-west-1.amazonaws.com/fayimora.com/2017/04/RoadToDataScientist1.png"
   ]
  },
  {
   "cell_type": "markdown",
   "metadata": {},
   "source": [
    "---"
   ]
  }
 ],
 "metadata": {
  "kernelspec": {
   "display_name": "Python 3",
   "language": "python",
   "name": "python3"
  },
  "language_info": {
   "codemirror_mode": {
    "name": "ipython",
    "version": 3
   },
   "file_extension": ".py",
   "mimetype": "text/x-python",
   "name": "python",
   "nbconvert_exporter": "python",
   "pygments_lexer": "ipython3",
   "version": "3.6.4"
  }
 },
 "nbformat": 4,
 "nbformat_minor": 2
}
